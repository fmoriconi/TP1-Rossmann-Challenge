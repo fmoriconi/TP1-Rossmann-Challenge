{
 "cells": [
  {
   "cell_type": "markdown",
   "metadata": {},
   "source": [
    "1) ¿Qué son los entity embeddings y cómo se relacionan con las variables categóricas?\n",
    "\n",
    "Se trata de un método de representación de variables categoricas que destaca por tener en cuenta la relación o similaridad entre las variables. El paper sugerido por la cátedra menciona que un gran problema en la aplicación práctica de redes neuronales es la \"discontinuidad\" de la data a procesar para sets de datos estructurados, los cuales pueden carecer cualquier tipo de continuidad, pero con entity embeddings este problema se puede aliviar ya que \"revela la continuidad intrínseca de la data\" lo cual facilita la aplicación exitosa de una red neuronal.\n",
    "\n",
    "2) Explique la métrica utilizada en la competencia\n",
    "\n",
    "Se utiliza RMSE, con la salvedad de que en esta competencia se normaliza el error al dividir la diferencia entre la predicción y el valor real por este último. Así, la métrica se inmuniza ante sesgos que surgirían por procesar las ventas de locales con más o menos ventas, ya que la magnitud del error es directamente proporcional a la magnitud de las ventas de los locales analizados, además de que los locales de más ventas taparían al aporte de los locales más pequeños y por ende la red no podría adaptarse adecuadamente a ellos, buscando adaptarse sólo a los de muchas ventas ya que es lo que minimizaría el error (y por ende sería la decisión óptima matemáticamente, pero incorrecta en la práctica)."
   ]
  },
  {
   "cell_type": "markdown",
   "metadata": {},
   "source": [
    "Preprocesamiento de datos.\n",
    "\n",
    "En el archivo 02-data-preprocess-ipynb se tomó la raw data y se la adaptó a un formato adecuado. Esto incluye darle alguna representación a valores NaN según a qué tipo de dato correspondan, formateo adecuado de fechas/meses/días, mapeo de datos (es decir, los joins entre diferentes tablas) y de nuevo un formateo de datos, esta vez de competitions y promos.\n",
    "\n",
    "En el archivo 03-durations-preprocess.ipnynb, primero se ignora el tipo de feriado estatal indicando sólo si hay feriado o no. Luego, tanto para promos como para feriados estatales y escolares, se agregan y formatean tablas indicando cuanto falta para el próximo y cuanto tiempo transcurrió desde el último. "
   ]
  },
  {
   "cell_type": "code",
   "execution_count": 60,
   "metadata": {},
   "outputs": [
    {
     "name": "stderr",
     "output_type": "stream",
     "text": [
      "C:\\Users\\Franco\\AppData\\Roaming\\Python\\Python39\\site-packages\\tensorflow\\python\\client\\session.py:1768: UserWarning: An interactive session is already active. This can cause out-of-memory errors in some cases. You must explicitly call `InteractiveSession.close()` to release resources held by the other session(s).\n",
      "  warnings.warn('An interactive session is already active. This can '\n"
     ]
    }
   ],
   "source": [
    "from tensorflow.compat.v1 import ConfigProto\n",
    "from tensorflow.compat.v1 import InteractiveSession\n",
    "config = ConfigProto()\n",
    "config.gpu_options.allow_growth = True\n",
    "session = InteractiveSession(config=config)"
   ]
  },
  {
   "cell_type": "code",
   "execution_count": 61,
   "metadata": {},
   "outputs": [],
   "source": [
    "import pandas as pd\n",
    "import numpy as np\n",
    "import datetime\n",
    "from pandas_summary import DataFrameSummary"
   ]
  },
  {
   "cell_type": "code",
   "execution_count": 62,
   "metadata": {},
   "outputs": [],
   "source": [
    "from tensorflow.keras.utils import to_categorical"
   ]
  },
  {
   "cell_type": "code",
   "execution_count": 63,
   "metadata": {},
   "outputs": [],
   "source": [
    "df = pd.read_feather('train_normalized_data.fth')\n",
    "df_test = pd.read_feather('test_normalized_data.fth')"
   ]
  },
  {
   "cell_type": "code",
   "execution_count": 64,
   "metadata": {},
   "outputs": [],
   "source": [
    "cat_vars = ['Store', \n",
    "            'DayOfWeek', \n",
    "            'Year', \n",
    "            'Month', \n",
    "            'Day', \n",
    "            'StateHoliday', \n",
    "#            'CompetitionMonthsOpen', \n",
    "#            'Promo2Weeks', \n",
    "            'StoreType', \n",
    "            'Assortment', \n",
    "#            'PromoInterval', \n",
    "#            'CompetitionOpenSinceYear',  \n",
    "            'State', \n",
    "#            'Promo2SinceYear',\n",
    "            'Week', \n",
    "            'Events', \n",
    "#            'Promo_fw', \n",
    "#            'Promo_bw', \n",
    "            'StateHoliday_bool_fw',\n",
    "            'StateHoliday_bool_bw', \n",
    "            'SchoolHoliday_fw', \n",
    "            'SchoolHoliday_bw'\n",
    "]\n",
    "\n",
    "#cat_vars = ['Store', 'DayOfWeek']"
   ]
  },
  {
   "cell_type": "code",
   "execution_count": 65,
   "metadata": {},
   "outputs": [],
   "source": [
    "contin_vars = ['CompetitionDistance', \n",
    "   'Max_TemperatureC', 'Mean_TemperatureC', 'Min_TemperatureC', 'Precipitationmm',\n",
    "   'Max_Humidity', 'Mean_Humidity', 'Min_Humidity', 'Max_Wind_SpeedKm_h', \n",
    "   'Mean_Wind_SpeedKm_h', 'CloudCover', 'trend', 'trend_DE',\n",
    "   'AfterStateHoliday_bool', 'BeforeStateHoliday_bool', 'Promo', 'SchoolHoliday', 'StateHoliday_bool']\n",
    "#contin_vars = ['BeforeStateHoliday_bool', 'Max_TemperatureC']"
   ]
  },
  {
   "cell_type": "code",
   "execution_count": 66,
   "metadata": {},
   "outputs": [],
   "source": [
    "uniques = DataFrameSummary(df[cat_vars]).summary().loc[['uniques']]"
   ]
  },
  {
   "cell_type": "code",
   "execution_count": 67,
   "metadata": {},
   "outputs": [
    {
     "data": {
      "text/html": [
       "<div>\n",
       "<style scoped>\n",
       "    .dataframe tbody tr th:only-of-type {\n",
       "        vertical-align: middle;\n",
       "    }\n",
       "\n",
       "    .dataframe tbody tr th {\n",
       "        vertical-align: top;\n",
       "    }\n",
       "\n",
       "    .dataframe thead th {\n",
       "        text-align: right;\n",
       "    }\n",
       "</style>\n",
       "<table border=\"1\" class=\"dataframe\">\n",
       "  <thead>\n",
       "    <tr style=\"text-align: right;\">\n",
       "      <th></th>\n",
       "      <th>uniques</th>\n",
       "    </tr>\n",
       "  </thead>\n",
       "  <tbody>\n",
       "    <tr>\n",
       "      <th>Store</th>\n",
       "      <td>1115</td>\n",
       "    </tr>\n",
       "    <tr>\n",
       "      <th>DayOfWeek</th>\n",
       "      <td>7</td>\n",
       "    </tr>\n",
       "    <tr>\n",
       "      <th>Year</th>\n",
       "      <td>3</td>\n",
       "    </tr>\n",
       "    <tr>\n",
       "      <th>Month</th>\n",
       "      <td>12</td>\n",
       "    </tr>\n",
       "    <tr>\n",
       "      <th>Day</th>\n",
       "      <td>31</td>\n",
       "    </tr>\n",
       "    <tr>\n",
       "      <th>StateHoliday</th>\n",
       "      <td>4</td>\n",
       "    </tr>\n",
       "    <tr>\n",
       "      <th>StoreType</th>\n",
       "      <td>4</td>\n",
       "    </tr>\n",
       "    <tr>\n",
       "      <th>Assortment</th>\n",
       "      <td>3</td>\n",
       "    </tr>\n",
       "    <tr>\n",
       "      <th>State</th>\n",
       "      <td>12</td>\n",
       "    </tr>\n",
       "    <tr>\n",
       "      <th>Week</th>\n",
       "      <td>52</td>\n",
       "    </tr>\n",
       "    <tr>\n",
       "      <th>Events</th>\n",
       "      <td>22</td>\n",
       "    </tr>\n",
       "    <tr>\n",
       "      <th>StateHoliday_bool_fw</th>\n",
       "      <td>3</td>\n",
       "    </tr>\n",
       "    <tr>\n",
       "      <th>StateHoliday_bool_bw</th>\n",
       "      <td>3</td>\n",
       "    </tr>\n",
       "    <tr>\n",
       "      <th>SchoolHoliday_fw</th>\n",
       "      <td>8</td>\n",
       "    </tr>\n",
       "    <tr>\n",
       "      <th>SchoolHoliday_bw</th>\n",
       "      <td>8</td>\n",
       "    </tr>\n",
       "  </tbody>\n",
       "</table>\n",
       "</div>"
      ],
      "text/plain": [
       "                     uniques\n",
       "Store                   1115\n",
       "DayOfWeek                  7\n",
       "Year                       3\n",
       "Month                     12\n",
       "Day                       31\n",
       "StateHoliday               4\n",
       "StoreType                  4\n",
       "Assortment                 3\n",
       "State                     12\n",
       "Week                      52\n",
       "Events                    22\n",
       "StateHoliday_bool_fw       3\n",
       "StateHoliday_bool_bw       3\n",
       "SchoolHoliday_fw           8\n",
       "SchoolHoliday_bw           8"
      ]
     },
     "execution_count": 67,
     "metadata": {},
     "output_type": "execute_result"
    }
   ],
   "source": [
    "uniques.T"
   ]
  },
  {
   "cell_type": "markdown",
   "metadata": {},
   "source": [
    "# Asignación de dimensión de embeddings"
   ]
  },
  {
   "cell_type": "code",
   "execution_count": 68,
   "metadata": {},
   "outputs": [],
   "source": [
    "cat_var_dict = {\n",
    "    'Store': 1115, 'DayOfWeek': 7, 'Year': 3, 'Month': 12, 'Week': 52, 'Day': 31,  'Events': 22,\n",
    "    'State': 12,  'StoreType': 4,  'Assortment': 3,\n",
    "    'PromoInterval': 4,\n",
    "    'Promo2SinceYear': 8,\n",
    "    'Promo2Weeks': 26,\n",
    "    'CompetitionMonthsOpen': 25,\n",
    "    'CompetitionOpenSinceYear': 21,\n",
    "    'Promo_fw': 6,'Promo_bw': 6,\n",
    "    'StateHoliday': 4, 'StateHoliday_bool_fw': 3, 'StateHoliday_bool_bw': 3, \n",
    "    'SchoolHoliday_fw': 8,'SchoolHoliday_bw': 8}"
   ]
  },
  {
   "cell_type": "code",
   "execution_count": 69,
   "metadata": {},
   "outputs": [
    {
     "name": "stdout",
     "output_type": "stream",
     "text": [
      "Store 1115 1115 [   0    1    2 ... 1112 1113 1114]\n",
      "\n",
      "DayOfWeek 7 7 [0 1 2 3 4 5 6]\n",
      "\n",
      "Year 3 3 [0 1 2]\n",
      "\n",
      "Month 12 12 [ 0  1  2  3  4  5  6  7  8  9 10 11]\n",
      "\n",
      "Day 31 31 [ 0  1  2  3  4  5  6  7  8  9 10 11 12 13 14 15 16 17 18 19 20 21 22 23\n",
      " 24 25 26 27 28 29 30]\n",
      "\n",
      "StateHoliday 4 4 [0 1 2 3]\n",
      "\n",
      "StoreType 4 4 [0 1 2 3]\n",
      "\n",
      "Assortment 3 3 [0 1 2]\n",
      "\n",
      "State 12 12 [ 0  1  2  3  4  5  6  7  8  9 10 11]\n",
      "\n",
      "Week 52 52 [ 0  1  2  3  4  5  6  7  8  9 10 11 12 13 14 15 16 17 18 19 20 21 22 23\n",
      " 24 25 26 27 28 29 30 31 32 33 34 35 36 37 38 39 40 41 42 43 44 45 46 47\n",
      " 48 49 50 51]\n",
      "\n",
      "Events 22 22 [ 0  1  2  3  4  5  6  7  8  9 10 11 12 13 14 15 16 17 18 19 20 21]\n",
      "\n",
      "StateHoliday_bool_fw 3 3 [0 1 2]\n",
      "\n",
      "StateHoliday_bool_bw 3 3 [0 1 2]\n",
      "\n",
      "SchoolHoliday_fw 8 8 [0 1 2 3 4 5 6 7]\n",
      "\n",
      "SchoolHoliday_bw 8 8 [0 1 2 3 4 5 6 7]\n",
      "\n"
     ]
    }
   ],
   "source": [
    "for v in cat_vars:\n",
    "    uniques_ = df[v].unique()\n",
    "    uniques_.sort()\n",
    "    print(v, cat_var_dict[v], len(uniques_), uniques_)\n",
    "    print()"
   ]
  },
  {
   "cell_type": "markdown",
   "metadata": {},
   "source": [
    "# Definición de modelo"
   ]
  },
  {
   "cell_type": "code",
   "execution_count": 70,
   "metadata": {},
   "outputs": [],
   "source": [
    "add_customers = True\n",
    "log_output = True\n",
    "output_activation = 'linear'"
   ]
  },
  {
   "cell_type": "code",
   "execution_count": 71,
   "metadata": {},
   "outputs": [],
   "source": [
    "from tensorflow.keras.models import Model\n",
    "from tensorflow.keras.callbacks import ModelCheckpoint\n",
    "from tensorflow.keras.optimizers import Adam\n",
    "from tensorflow.keras.layers import Embedding, Input, Flatten, Concatenate, Dense, BatchNormalization, Activation, LeakyReLU, Dropout\n",
    "from tensorflow.keras.regularizers import l2"
   ]
  },
  {
   "cell_type": "code",
   "execution_count": 72,
   "metadata": {},
   "outputs": [],
   "source": [
    "def get_cat_vars_model(cat_vars, uniques, cat_var_dict):\n",
    "    cat_vars_embed_outs = []\n",
    "    cat_var_inputs = []\n",
    "    for cat_var in cat_vars:\n",
    "        cat_var_in = Input(shape=(1,), name=f\"{cat_var}_input\")\n",
    "        cat_var_inputs.append(cat_var_in)\n",
    "        embed_out = Embedding(uniques[cat_var][0], cat_var_dict[cat_var], name=f'{cat_var}_Embed')(cat_var_in)\n",
    "        flatten_out = Flatten(name=f\"{cat_var}_flat\")(embed_out)\n",
    "        cat_vars_embed_outs.append(flatten_out)\n",
    "    return cat_var_inputs, cat_vars_embed_outs\n",
    "\n",
    "def get_cont_vars_input(contin_vars, dense_layer=False):\n",
    "    cont_vars_inputs = []\n",
    "    cont_vars_outputs = []\n",
    "    for cont_var in contin_vars:\n",
    "        cont_var_in = Input(shape=(1,), name=f\"{cont_var}_input\")\n",
    "        cont_vars_inputs.append(cont_var_in)\n",
    "        if dense_layer:\n",
    "            cont_var_out = Dense(1, name=f\"{cont_var}_input\", activation = 'linear')(cont_var_in)\n",
    "            cont_vars_outputs.append(cont_var_out)\n",
    "        else:\n",
    "            cont_vars_outputs.append(cont_var_in)\n",
    "    return cont_vars_inputs, cont_vars_outputs"
   ]
  },
  {
   "cell_type": "code",
   "execution_count": 73,
   "metadata": {},
   "outputs": [],
   "source": [
    "cat_var_inputs, cat_vars_embed_outs = get_cat_vars_model(cat_vars, uniques, cat_var_dict)\n",
    "cont_vars_inputs,  cont_vars_outs= get_cont_vars_input(contin_vars)"
   ]
  },
  {
   "cell_type": "code",
   "execution_count": 74,
   "metadata": {},
   "outputs": [],
   "source": [
    "# Descomentar para ver resultados\n",
    "# cat_vars_embed_outs\n",
    "# cat_var_inputs\n",
    "# cont_vars_inputs\n",
    "# cont_vars_outs"
   ]
  },
  {
   "cell_type": "code",
   "execution_count": 75,
   "metadata": {},
   "outputs": [],
   "source": [
    "first_hidden_units = 1600\n",
    "second_hidden_units = 800\n",
    "l2_lambda = 1e-4\n",
    "merged = Concatenate(name='All_Concatenate')(cat_vars_embed_outs + cont_vars_inputs)\n",
    "x = Dense(first_hidden_units, kernel_initializer=\"uniform\", kernel_regularizer=l2(l2_lambda))(merged)\n",
    "#x = BatchNormalization()(x)\n",
    "x = Activation('relu')(x)\n",
    "# x = LeakyReLU()(x)\n",
    "x = Dense(second_hidden_units, kernel_initializer=\"uniform\", kernel_regularizer=l2(l2_lambda))(x)\n",
    "#x = BatchNormalization()(x)\n",
    "x = Activation('relu')(x)\n",
    "# x = LeakyReLU()(x)\n",
    "\n",
    "activation_csv = \"relu\"\n",
    "\n",
    "output_1 = Dense(1, name='Sales', activation=output_activation)(x)\n",
    "output_2 = Dense(1, name='Customers', activation=output_activation)(x)"
   ]
  },
  {
   "cell_type": "code",
   "execution_count": 76,
   "metadata": {},
   "outputs": [],
   "source": [
    "if add_customers:\n",
    "    model = Model(cat_var_inputs + cont_vars_inputs, [output_1, output_2])\n",
    "else: \n",
    "    model = Model(cat_var_inputs + cont_vars_inputs, [output_1])"
   ]
  },
  {
   "cell_type": "code",
   "execution_count": 77,
   "metadata": {},
   "outputs": [
    {
     "name": "stdout",
     "output_type": "stream",
     "text": [
      "Model: \"model_2\"\n",
      "__________________________________________________________________________________________________\n",
      " Layer (type)                   Output Shape         Param #     Connected to                     \n",
      "==================================================================================================\n",
      " Store_input (InputLayer)       [(None, 1)]          0           []                               \n",
      "                                                                                                  \n",
      " DayOfWeek_input (InputLayer)   [(None, 1)]          0           []                               \n",
      "                                                                                                  \n",
      " Year_input (InputLayer)        [(None, 1)]          0           []                               \n",
      "                                                                                                  \n",
      " Month_input (InputLayer)       [(None, 1)]          0           []                               \n",
      "                                                                                                  \n",
      " Day_input (InputLayer)         [(None, 1)]          0           []                               \n",
      "                                                                                                  \n",
      " StateHoliday_input (InputLayer  [(None, 1)]         0           []                               \n",
      " )                                                                                                \n",
      "                                                                                                  \n",
      " StoreType_input (InputLayer)   [(None, 1)]          0           []                               \n",
      "                                                                                                  \n",
      " Assortment_input (InputLayer)  [(None, 1)]          0           []                               \n",
      "                                                                                                  \n",
      " State_input (InputLayer)       [(None, 1)]          0           []                               \n",
      "                                                                                                  \n",
      " Week_input (InputLayer)        [(None, 1)]          0           []                               \n",
      "                                                                                                  \n",
      " Events_input (InputLayer)      [(None, 1)]          0           []                               \n",
      "                                                                                                  \n",
      " StateHoliday_bool_fw_input (In  [(None, 1)]         0           []                               \n",
      " putLayer)                                                                                        \n",
      "                                                                                                  \n",
      " StateHoliday_bool_bw_input (In  [(None, 1)]         0           []                               \n",
      " putLayer)                                                                                        \n",
      "                                                                                                  \n",
      " SchoolHoliday_fw_input (InputL  [(None, 1)]         0           []                               \n",
      " ayer)                                                                                            \n",
      "                                                                                                  \n",
      " SchoolHoliday_bw_input (InputL  [(None, 1)]         0           []                               \n",
      " ayer)                                                                                            \n",
      "                                                                                                  \n",
      " Store_Embed (Embedding)        (None, 1, 1115)      1243225     ['Store_input[0][0]']            \n",
      "                                                                                                  \n",
      " DayOfWeek_Embed (Embedding)    (None, 1, 7)         49          ['DayOfWeek_input[0][0]']        \n",
      "                                                                                                  \n",
      " Year_Embed (Embedding)         (None, 1, 3)         9           ['Year_input[0][0]']             \n",
      "                                                                                                  \n",
      " Month_Embed (Embedding)        (None, 1, 12)        144         ['Month_input[0][0]']            \n",
      "                                                                                                  \n",
      " Day_Embed (Embedding)          (None, 1, 31)        961         ['Day_input[0][0]']              \n",
      "                                                                                                  \n",
      " StateHoliday_Embed (Embedding)  (None, 1, 4)        16          ['StateHoliday_input[0][0]']     \n",
      "                                                                                                  \n",
      " StoreType_Embed (Embedding)    (None, 1, 4)         16          ['StoreType_input[0][0]']        \n",
      "                                                                                                  \n",
      " Assortment_Embed (Embedding)   (None, 1, 3)         9           ['Assortment_input[0][0]']       \n",
      "                                                                                                  \n",
      " State_Embed (Embedding)        (None, 1, 12)        144         ['State_input[0][0]']            \n",
      "                                                                                                  \n",
      " Week_Embed (Embedding)         (None, 1, 52)        2704        ['Week_input[0][0]']             \n",
      "                                                                                                  \n",
      " Events_Embed (Embedding)       (None, 1, 22)        484         ['Events_input[0][0]']           \n",
      "                                                                                                  \n",
      " StateHoliday_bool_fw_Embed (Em  (None, 1, 3)        9           ['StateHoliday_bool_fw_input[0][0\n",
      " bedding)                                                        ]']                              \n",
      "                                                                                                  \n",
      " StateHoliday_bool_bw_Embed (Em  (None, 1, 3)        9           ['StateHoliday_bool_bw_input[0][0\n",
      " bedding)                                                        ]']                              \n",
      "                                                                                                  \n",
      " SchoolHoliday_fw_Embed (Embedd  (None, 1, 8)        64          ['SchoolHoliday_fw_input[0][0]'] \n",
      " ing)                                                                                             \n",
      "                                                                                                  \n",
      " SchoolHoliday_bw_Embed (Embedd  (None, 1, 8)        64          ['SchoolHoliday_bw_input[0][0]'] \n",
      " ing)                                                                                             \n",
      "                                                                                                  \n",
      " Store_flat (Flatten)           (None, 1115)         0           ['Store_Embed[0][0]']            \n",
      "                                                                                                  \n",
      " DayOfWeek_flat (Flatten)       (None, 7)            0           ['DayOfWeek_Embed[0][0]']        \n",
      "                                                                                                  \n",
      " Year_flat (Flatten)            (None, 3)            0           ['Year_Embed[0][0]']             \n",
      "                                                                                                  \n",
      " Month_flat (Flatten)           (None, 12)           0           ['Month_Embed[0][0]']            \n",
      "                                                                                                  \n",
      " Day_flat (Flatten)             (None, 31)           0           ['Day_Embed[0][0]']              \n",
      "                                                                                                  \n",
      " StateHoliday_flat (Flatten)    (None, 4)            0           ['StateHoliday_Embed[0][0]']     \n",
      "                                                                                                  \n",
      " StoreType_flat (Flatten)       (None, 4)            0           ['StoreType_Embed[0][0]']        \n",
      "                                                                                                  \n",
      " Assortment_flat (Flatten)      (None, 3)            0           ['Assortment_Embed[0][0]']       \n",
      "                                                                                                  \n",
      " State_flat (Flatten)           (None, 12)           0           ['State_Embed[0][0]']            \n",
      "                                                                                                  \n",
      " Week_flat (Flatten)            (None, 52)           0           ['Week_Embed[0][0]']             \n",
      "                                                                                                  \n",
      " Events_flat (Flatten)          (None, 22)           0           ['Events_Embed[0][0]']           \n",
      "                                                                                                  \n",
      " StateHoliday_bool_fw_flat (Fla  (None, 3)           0           ['StateHoliday_bool_fw_Embed[0][0\n",
      " tten)                                                           ]']                              \n",
      "                                                                                                  \n",
      " StateHoliday_bool_bw_flat (Fla  (None, 3)           0           ['StateHoliday_bool_bw_Embed[0][0\n",
      " tten)                                                           ]']                              \n",
      "                                                                                                  \n",
      " SchoolHoliday_fw_flat (Flatten  (None, 8)           0           ['SchoolHoliday_fw_Embed[0][0]'] \n",
      " )                                                                                                \n",
      "                                                                                                  \n",
      " SchoolHoliday_bw_flat (Flatten  (None, 8)           0           ['SchoolHoliday_bw_Embed[0][0]'] \n",
      " )                                                                                                \n",
      "                                                                                                  \n",
      " CompetitionDistance_input (Inp  [(None, 1)]         0           []                               \n",
      " utLayer)                                                                                         \n",
      "                                                                                                  \n",
      " Max_TemperatureC_input (InputL  [(None, 1)]         0           []                               \n",
      " ayer)                                                                                            \n",
      "                                                                                                  \n",
      " Mean_TemperatureC_input (Input  [(None, 1)]         0           []                               \n",
      " Layer)                                                                                           \n",
      "                                                                                                  \n",
      " Min_TemperatureC_input (InputL  [(None, 1)]         0           []                               \n",
      " ayer)                                                                                            \n",
      "                                                                                                  \n",
      " Precipitationmm_input (InputLa  [(None, 1)]         0           []                               \n",
      " yer)                                                                                             \n",
      "                                                                                                  \n",
      " Max_Humidity_input (InputLayer  [(None, 1)]         0           []                               \n",
      " )                                                                                                \n",
      "                                                                                                  \n",
      " Mean_Humidity_input (InputLaye  [(None, 1)]         0           []                               \n",
      " r)                                                                                               \n",
      "                                                                                                  \n",
      " Min_Humidity_input (InputLayer  [(None, 1)]         0           []                               \n",
      " )                                                                                                \n",
      "                                                                                                  \n",
      " Max_Wind_SpeedKm_h_input (Inpu  [(None, 1)]         0           []                               \n",
      " tLayer)                                                                                          \n",
      "                                                                                                  \n",
      " Mean_Wind_SpeedKm_h_input (Inp  [(None, 1)]         0           []                               \n",
      " utLayer)                                                                                         \n",
      "                                                                                                  \n",
      " CloudCover_input (InputLayer)  [(None, 1)]          0           []                               \n",
      "                                                                                                  \n",
      " trend_input (InputLayer)       [(None, 1)]          0           []                               \n",
      "                                                                                                  \n",
      " trend_DE_input (InputLayer)    [(None, 1)]          0           []                               \n",
      "                                                                                                  \n",
      " AfterStateHoliday_bool_input (  [(None, 1)]         0           []                               \n",
      " InputLayer)                                                                                      \n",
      "                                                                                                  \n",
      " BeforeStateHoliday_bool_input   [(None, 1)]         0           []                               \n",
      " (InputLayer)                                                                                     \n",
      "                                                                                                  \n",
      " Promo_input (InputLayer)       [(None, 1)]          0           []                               \n",
      "                                                                                                  \n",
      " SchoolHoliday_input (InputLaye  [(None, 1)]         0           []                               \n",
      " r)                                                                                               \n",
      "                                                                                                  \n",
      " StateHoliday_bool_input (Input  [(None, 1)]         0           []                               \n",
      " Layer)                                                                                           \n",
      "                                                                                                  \n",
      " All_Concatenate (Concatenate)  (None, 1305)         0           ['Store_flat[0][0]',             \n",
      "                                                                  'DayOfWeek_flat[0][0]',         \n",
      "                                                                  'Year_flat[0][0]',              \n",
      "                                                                  'Month_flat[0][0]',             \n",
      "                                                                  'Day_flat[0][0]',               \n",
      "                                                                  'StateHoliday_flat[0][0]',      \n",
      "                                                                  'StoreType_flat[0][0]',         \n",
      "                                                                  'Assortment_flat[0][0]',        \n",
      "                                                                  'State_flat[0][0]',             \n",
      "                                                                  'Week_flat[0][0]',              \n",
      "                                                                  'Events_flat[0][0]',            \n",
      "                                                                  'StateHoliday_bool_fw_flat[0][0]\n",
      "                                                                 ',                               \n",
      "                                                                  'StateHoliday_bool_bw_flat[0][0]\n",
      "                                                                 ',                               \n",
      "                                                                  'SchoolHoliday_fw_flat[0][0]',  \n",
      "                                                                  'SchoolHoliday_bw_flat[0][0]',  \n",
      "                                                                  'CompetitionDistance_input[0][0]\n",
      "                                                                 ',                               \n",
      "                                                                  'Max_TemperatureC_input[0][0]', \n",
      "                                                                  'Mean_TemperatureC_input[0][0]',\n",
      "                                                                  'Min_TemperatureC_input[0][0]', \n",
      "                                                                  'Precipitationmm_input[0][0]',  \n",
      "                                                                  'Max_Humidity_input[0][0]',     \n",
      "                                                                  'Mean_Humidity_input[0][0]',    \n",
      "                                                                  'Min_Humidity_input[0][0]',     \n",
      "                                                                  'Max_Wind_SpeedKm_h_input[0][0]'\n",
      "                                                                 , 'Mean_Wind_SpeedKm_h_input[0][0\n",
      "                                                                 ]',                              \n",
      "                                                                  'CloudCover_input[0][0]',       \n",
      "                                                                  'trend_input[0][0]',            \n",
      "                                                                  'trend_DE_input[0][0]',         \n",
      "                                                                  'AfterStateHoliday_bool_input[0]\n",
      "                                                                 [0]',                            \n",
      "                                                                  'BeforeStateHoliday_bool_input[0\n",
      "                                                                 ][0]',                           \n",
      "                                                                  'Promo_input[0][0]',            \n",
      "                                                                  'SchoolHoliday_input[0][0]',    \n",
      "                                                                  'StateHoliday_bool_input[0][0]']\n",
      "                                                                                                  \n",
      " dense_2 (Dense)                (None, 1600)         2089600     ['All_Concatenate[0][0]']        \n",
      "                                                                                                  \n",
      " activation_2 (Activation)      (None, 1600)         0           ['dense_2[0][0]']                \n",
      "                                                                                                  \n",
      " dense_3 (Dense)                (None, 800)          1280800     ['activation_2[0][0]']           \n",
      "                                                                                                  \n",
      " activation_3 (Activation)      (None, 800)          0           ['dense_3[0][0]']                \n",
      "                                                                                                  \n",
      " Sales (Dense)                  (None, 1)            801         ['activation_3[0][0]']           \n",
      "                                                                                                  \n",
      " Customers (Dense)              (None, 1)            801         ['activation_3[0][0]']           \n",
      "                                                                                                  \n",
      "==================================================================================================\n",
      "Total params: 4,619,909\n",
      "Trainable params: 4,619,909\n",
      "Non-trainable params: 0\n",
      "__________________________________________________________________________________________________\n"
     ]
    }
   ],
   "source": [
    "# Descomentar para ver\n",
    "model.summary()"
   ]
  },
  {
   "cell_type": "code",
   "execution_count": 78,
   "metadata": {},
   "outputs": [],
   "source": [
    "model.save_weights('initial_weights.hdf5')"
   ]
  },
  {
   "cell_type": "code",
   "execution_count": 79,
   "metadata": {},
   "outputs": [
    {
     "name": "stdout",
     "output_type": "stream",
     "text": [
      "Cantidad en val: 30188, porcentaje: 0.9642465458145908\n"
     ]
    }
   ],
   "source": [
    "df_train = df[df.Date < datetime.datetime(2015, 7, 1)]  \n",
    "df_val = df[df.Date >= datetime.datetime(2015, 7, 1)]\n",
    "print(f'Cantidad en val: {len(df_val)}, porcentaje: {len(df_train)/(len(df_train) + len(df_val))}')"
   ]
  },
  {
   "cell_type": "code",
   "execution_count": 80,
   "metadata": {},
   "outputs": [],
   "source": [
    "from matplotlib import pyplot as plt\n",
    "# plt.figure(figsize=(20,5))\n",
    "# plt.plot((df_train[df_train['Store']==1]['Sales'].values - df_train[df_train['Store']==1]['Sales'].mean())/df_train[df_train['Store']==1]['Sales'].std())\n",
    "# plt.show()\n",
    "# plt.figure(figsize=(20,5))\n",
    "# plt.plot(np.log(df_train[df_train['Store']==1]['Sales'].values)/np.max(np.log(df_train[df_train['Store']==1]['Sales'].values)))\n",
    "# plt.show()"
   ]
  },
  {
   "cell_type": "code",
   "execution_count": 81,
   "metadata": {},
   "outputs": [],
   "source": [
    "stores_mean = {}\n",
    "for store, g_df in df_train.groupby('Store'):\n",
    "    stores_mean[store] = g_df[g_df['Sales'] > 0]['Sales'].mean()"
   ]
  },
  {
   "cell_type": "code",
   "execution_count": 82,
   "metadata": {},
   "outputs": [
    {
     "name": "stderr",
     "output_type": "stream",
     "text": [
      "c:\\Users\\Franco\\AppData\\Local\\Programs\\Python\\Python39\\lib\\site-packages\\pandas\\core\\indexing.py:1597: SettingWithCopyWarning: \n",
      "A value is trying to be set on a copy of a slice from a DataFrame.\n",
      "Try using .loc[row_indexer,col_indexer] = value instead\n",
      "\n",
      "See the caveats in the documentation: https://pandas.pydata.org/pandas-docs/stable/user_guide/indexing.html#returning-a-view-versus-a-copy\n",
      "  self.obj[key] = value\n",
      "c:\\Users\\Franco\\AppData\\Local\\Programs\\Python\\Python39\\lib\\site-packages\\pandas\\core\\indexing.py:1676: SettingWithCopyWarning: \n",
      "A value is trying to be set on a copy of a slice from a DataFrame.\n",
      "Try using .loc[row_indexer,col_indexer] = value instead\n",
      "\n",
      "See the caveats in the documentation: https://pandas.pydata.org/pandas-docs/stable/user_guide/indexing.html#returning-a-view-versus-a-copy\n",
      "  self._setitem_single_column(ilocs[0], value, pi)\n"
     ]
    }
   ],
   "source": [
    "df_train.loc[:, 'mean_by_store'] = df_train['Store'].apply(stores_mean.get)\n",
    "df_val.loc[:, 'mean_by_store'] = df_val['Store'].apply(stores_mean.get)\n",
    "\n",
    "df_train.loc[:, 'Sales_store'] = df_train['Sales'] - df_train['mean_by_store']\n",
    "df_val.loc[:, 'Sales_store'] = df_val['Sales'] - df_val['mean_by_store']"
   ]
  },
  {
   "cell_type": "code",
   "execution_count": 83,
   "metadata": {},
   "outputs": [],
   "source": [
    "from tensorflow.keras import backend as K"
   ]
  },
  {
   "cell_type": "code",
   "execution_count": 84,
   "metadata": {},
   "outputs": [],
   "source": [
    "def rmspe(y_true, y_pred):\n",
    "    return K.sqrt(K.mean(K.square((y_true - y_pred)/y_true)))"
   ]
  },
  {
   "cell_type": "code",
   "execution_count": 85,
   "metadata": {},
   "outputs": [],
   "source": [
    "def get_metric(df, sales_):\n",
    "    return np.sqrt((((df['Sales'] - sales_)/df['Sales'])**2).mean())"
   ]
  },
  {
   "cell_type": "code",
   "execution_count": 86,
   "metadata": {},
   "outputs": [
    {
     "data": {
      "text/plain": [
       "0.3071746085338871"
      ]
     },
     "execution_count": 86,
     "metadata": {},
     "output_type": "execute_result"
    }
   ],
   "source": [
    "get_metric(df_val, df_val['mean_by_store'])"
   ]
  },
  {
   "cell_type": "code",
   "execution_count": 87,
   "metadata": {},
   "outputs": [],
   "source": [
    "all_vars = cat_vars + contin_vars\n",
    "X_train = np.hsplit(df_train[all_vars].values, len(all_vars))\n",
    "X_val = np.hsplit(df_val[all_vars].values, len(all_vars))\n",
    "X_test = np.hsplit(df_test[all_vars].values, len(all_vars))"
   ]
  },
  {
   "cell_type": "code",
   "execution_count": 88,
   "metadata": {},
   "outputs": [],
   "source": [
    "if add_customers:\n",
    "    y_out_columns = ['Sales', 'Customers']\n",
    "else:\n",
    "    y_out_columns = ['Sales_store']\n",
    "    \n",
    "if log_output:\n",
    "    # Escala logaritmica\n",
    "    max_log_y = np.max(np.log(df[y_out_columns])).values\n",
    "    y_train = np.log(df_train[y_out_columns].values)/max_log_y\n",
    "    y_val = np.log(df_val[y_out_columns].values)/max_log_y\n",
    "else:\n",
    "    # Normalización\n",
    "     y_mean = df_train[y_out_columns].mean().values\n",
    "     y_std = df_train[y_out_columns].std().values\n",
    "     y_train = (df_train[y_out_columns].values - y_mean)/y_std\n",
    "     y_val = (df_val[y_out_columns].values - y_mean)/y_std\n",
    "     y_max = df_train[y_out_columns].max().values\n",
    "     y_train = df_train[y_out_columns].values/y_max\n",
    "     y_val = df_val[y_out_columns].values/y_max\n",
    "y_train = np.hsplit(y_train, y_train.shape[1])\n",
    "y_val = np.hsplit(y_val, y_val.shape[1])"
   ]
  },
  {
   "cell_type": "code",
   "execution_count": 89,
   "metadata": {},
   "outputs": [
    {
     "name": "stderr",
     "output_type": "stream",
     "text": [
      "C:\\Users\\Franco\\AppData\\Roaming\\Python\\Python39\\site-packages\\keras\\optimizers\\optimizer_v2\\adam.py:110: UserWarning: The `lr` argument is deprecated, use `learning_rate` instead.\n",
      "  super(Adam, self).__init__(name, **kwargs)\n"
     ]
    }
   ],
   "source": [
    "lr = 0.00008\n",
    "model.compile(optimizer=Adam(lr=lr), metrics=['mse', rmspe], loss='mse')"
   ]
  },
  {
   "cell_type": "code",
   "execution_count": 90,
   "metadata": {},
   "outputs": [],
   "source": [
    "if add_customers:\n",
    "    checkpoint = ModelCheckpoint('bestmodel.hdf5', monitor='val_Sales_mse', verbose=1, save_best_only=True)\n",
    "else:\n",
    "    checkpoint = ModelCheckpoint('bestmodel.hdf5', monitor='val_loss', verbose=1, save_best_only=True)"
   ]
  },
  {
   "cell_type": "code",
   "execution_count": 91,
   "metadata": {},
   "outputs": [
    {
     "name": "stdout",
     "output_type": "stream",
     "text": [
      "Epoch 1/6\n",
      "\n",
      "Epoch 1: val_Sales_mse improved from inf to 0.00047, saving model to bestmodel.hdf5\n",
      "6361/6361 - 465s - loss: 0.0564 - Sales_loss: 0.0013 - Customers_loss: 0.0014 - Sales_mse: 0.0013 - Sales_rmspe: 0.0303 - Customers_mse: 0.0014 - Customers_rmspe: 0.0365 - val_loss: 0.0044 - val_Sales_loss: 4.6517e-04 - val_Customers_loss: 3.8558e-04 - val_Sales_mse: 4.6517e-04 - val_Sales_rmspe: 0.0257 - val_Customers_mse: 3.8558e-04 - val_Customers_rmspe: 0.0266 - 465s/epoch - 73ms/step\n",
      "Epoch 2/6\n",
      "\n",
      "Epoch 2: val_Sales_mse improved from 0.00047 to 0.00020, saving model to bestmodel.hdf5\n",
      "6361/6361 - 471s - loss: 0.0015 - Sales_loss: 2.3502e-04 - Customers_loss: 2.7311e-04 - Sales_mse: 2.3502e-04 - Sales_rmspe: 0.0189 - Customers_mse: 2.7311e-04 - Customers_rmspe: 0.0231 - val_loss: 6.8500e-04 - val_Sales_loss: 1.9809e-04 - val_Customers_loss: 1.9849e-04 - val_Sales_mse: 1.9809e-04 - val_Sales_rmspe: 0.0168 - val_Customers_mse: 1.9849e-04 - val_Customers_rmspe: 0.0189 - 471s/epoch - 74ms/step\n",
      "Epoch 3/6\n",
      "\n",
      "Epoch 3: val_Sales_mse improved from 0.00020 to 0.00016, saving model to bestmodel.hdf5\n",
      "6361/6361 - 436s - loss: 5.2037e-04 - Sales_loss: 1.5620e-04 - Customers_loss: 1.6752e-04 - Sales_mse: 1.5620e-04 - Sales_rmspe: 0.0153 - Customers_mse: 1.6752e-04 - Customers_rmspe: 0.0180 - val_loss: 4.8839e-04 - val_Sales_loss: 1.6177e-04 - val_Customers_loss: 1.8384e-04 - val_Sales_mse: 1.6177e-04 - val_Sales_rmspe: 0.0152 - val_Customers_mse: 1.8384e-04 - val_Customers_rmspe: 0.0184 - 436s/epoch - 69ms/step\n",
      "Epoch 4/6\n",
      "\n",
      "Epoch 4: val_Sales_mse did not improve from 0.00016\n",
      "6361/6361 - 499s - loss: 4.0320e-04 - Sales_loss: 1.3669e-04 - Customers_loss: 1.4554e-04 - Sales_mse: 1.3669e-04 - Sales_rmspe: 0.0143 - Customers_mse: 1.4554e-04 - Customers_rmspe: 0.0167 - val_loss: 4.5616e-04 - val_Sales_loss: 1.6693e-04 - val_Customers_loss: 1.8605e-04 - val_Sales_mse: 1.6693e-04 - val_Sales_rmspe: 0.0153 - val_Customers_mse: 1.8605e-04 - val_Customers_rmspe: 0.0182 - 499s/epoch - 78ms/step\n",
      "Epoch 5/6\n",
      "\n",
      "Epoch 5: val_Sales_mse improved from 0.00016 to 0.00015, saving model to bestmodel.hdf5\n",
      "6361/6361 - 472s - loss: 3.5353e-04 - Sales_loss: 1.2663e-04 - Customers_loss: 1.3327e-04 - Sales_mse: 1.2663e-04 - Sales_rmspe: 0.0138 - Customers_mse: 1.3327e-04 - Customers_rmspe: 0.0160 - val_loss: 3.9463e-04 - val_Sales_loss: 1.5292e-04 - val_Customers_loss: 1.5537e-04 - val_Sales_mse: 1.5292e-04 - val_Sales_rmspe: 0.0147 - val_Customers_mse: 1.5537e-04 - val_Customers_rmspe: 0.0167 - 472s/epoch - 74ms/step\n",
      "Epoch 6/6\n",
      "\n",
      "Epoch 6: val_Sales_mse did not improve from 0.00015\n",
      "6361/6361 - 429s - loss: 3.2436e-04 - Sales_loss: 1.1926e-04 - Customers_loss: 1.2447e-04 - Sales_mse: 1.1926e-04 - Sales_rmspe: 0.0134 - Customers_mse: 1.2447e-04 - Customers_rmspe: 0.0155 - val_loss: 4.0240e-04 - val_Sales_loss: 1.6624e-04 - val_Customers_loss: 1.6016e-04 - val_Sales_mse: 1.6624e-04 - val_Sales_rmspe: 0.0153 - val_Customers_mse: 1.6016e-04 - val_Customers_rmspe: 0.0170 - 429s/epoch - 67ms/step\n"
     ]
    }
   ],
   "source": [
    "epochs = 6\n",
    "batch_size = 128\n",
    "history = model.fit(X_train, y_train, validation_data=(X_val, y_val),  epochs=epochs, batch_size=batch_size, callbacks=[checkpoint], verbose=2)"
   ]
  },
  {
   "cell_type": "code",
   "execution_count": 92,
   "metadata": {},
   "outputs": [
    {
     "data": {
      "image/png": "[encoded data removed]",
      "text/plain": [
       "<Figure size 432x288 with 1 Axes>"
      ]
     },
     "metadata": {
      "needs_background": "light"
     },
     "output_type": "display_data"
    },
    {
     "data": {
      "text/plain": [
       "[<matplotlib.lines.Line2D at 0x21741d00fd0>]"
      ]
     },
     "execution_count": 92,
     "metadata": {},
     "output_type": "execute_result"
    },
    {
     "data": {
      "image/png": "[encoded data removed]",
      "text/plain": [
       "<Figure size 432x288 with 1 Axes>"
      ]
     },
     "metadata": {
      "needs_background": "light"
     },
     "output_type": "display_data"
    }
   ],
   "source": [
    "plt.plot(history.history['val_loss'])\n",
    "plt.plot(history.history['val_Customers_mse'])\n",
    "plt.plot(history.history['val_Sales_mse'])\n",
    "plt.show()\n",
    "plt.plot(history.history['loss'])\n",
    "plt.plot(history.history['Customers_mse'])\n",
    "plt.plot(history.history['Sales_mse'])"
   ]
  },
  {
   "cell_type": "markdown",
   "metadata": {},
   "source": [
    "# Métrica"
   ]
  },
  {
   "cell_type": "markdown",
   "metadata": {},
   "source": [
    "$$\n",
    "\\textrm{RMSE} = \\sqrt{\\frac{1}{n} \\sum_{i=1}^{n} \\left(\\frac{\\hat{y}_i - y_i}{y_i}\\right)^2}\n",
    "$$"
   ]
  },
  {
   "cell_type": "code",
   "execution_count": 93,
   "metadata": {},
   "outputs": [
    {
     "name": "stdout",
     "output_type": "stream",
     "text": [
      "944/944 [==============================] - 11s 11ms/step - loss: 4.0240e-04 - Sales_loss: 1.6624e-04 - Customers_loss: 1.6016e-04 - Sales_mse: 1.6624e-04 - Sales_rmspe: 0.0151 - Customers_mse: 1.6016e-04 - Customers_rmspe: 0.0167\n"
     ]
    },
    {
     "data": {
      "text/plain": [
       "[0.00040240061935037374,\n",
       " 0.00016624099225737154,\n",
       " 0.00016015525034163147,\n",
       " 0.00016624099225737154,\n",
       " 0.015134075656533241,\n",
       " 0.00016015525034163147,\n",
       " 0.016733329743146896]"
      ]
     },
     "execution_count": 93,
     "metadata": {},
     "output_type": "execute_result"
    }
   ],
   "source": [
    "model.evaluate(X_val, y_val)"
   ]
  },
  {
   "cell_type": "code",
   "execution_count": 94,
   "metadata": {},
   "outputs": [
    {
     "name": "stdout",
     "output_type": "stream",
     "text": [
      "944/944 [==============================] - 11s 11ms/step - loss: 3.9463e-04 - Sales_loss: 1.5292e-04 - Customers_loss: 1.5537e-04 - Sales_mse: 1.5292e-04 - Sales_rmspe: 0.0145 - Customers_mse: 1.5537e-04 - Customers_rmspe: 0.0164\n"
     ]
    },
    {
     "data": {
      "text/plain": [
       "[0.00039462672430090606,\n",
       " 0.0001529221044620499,\n",
       " 0.00015537028957623988,\n",
       " 0.0001529221044620499,\n",
       " 0.014488114975392818,\n",
       " 0.00015537028957623988,\n",
       " 0.016444150358438492]"
      ]
     },
     "execution_count": 94,
     "metadata": {},
     "output_type": "execute_result"
    }
   ],
   "source": [
    "model.load_weights('bestmodel.hdf5')\n",
    "model.evaluate(X_val, y_val)"
   ]
  },
  {
   "cell_type": "code",
   "execution_count": 95,
   "metadata": {},
   "outputs": [
    {
     "name": "stdout",
     "output_type": "stream",
     "text": [
      "944/944 [==============================] - 11s 11ms/step - loss: 3.9463e-04 - Sales_loss: 1.5292e-04 - Customers_loss: 1.5537e-04 - Sales_mse: 1.5292e-04 - Sales_rmspe: 0.0145 - Customers_mse: 1.5537e-04 - Customers_rmspe: 0.0164\n"
     ]
    },
    {
     "data": {
      "text/plain": [
       "[0.00039462672430090606,\n",
       " 0.0001529221044620499,\n",
       " 0.00015537028957623988,\n",
       " 0.0001529221044620499,\n",
       " 0.014488114975392818,\n",
       " 0.00015537028957623988,\n",
       " 0.016444150358438492]"
      ]
     },
     "execution_count": 95,
     "metadata": {},
     "output_type": "execute_result"
    }
   ],
   "source": [
    "model.load_weights('bestmodel.hdf5')\n",
    "model.evaluate(X_val, y_val)\n",
    "# 30188/30188 [==============================] - 5s 172us/step\n",
    "# [0.12197033089921382,\n",
    "#  0.07211007360268763,\n",
    "#  0.037183713050426136,\n",
    "#  0.07211007360268763,\n",
    "#  0.037183713050426136]\n",
    "\n",
    "# [0.12932546436786652,\n",
    "#  0.07751645147800446,\n",
    "#  0.039259567856788635,\n",
    "#  0.07751645147800446,\n",
    "#  0.039259567856788635]"
   ]
  },
  {
   "cell_type": "code",
   "execution_count": 96,
   "metadata": {},
   "outputs": [
    {
     "name": "stdout",
     "output_type": "stream",
     "text": [
      "944/944 [==============================] - 5s 6ms/step\n",
      "1284/1284 [==============================] - 8s 6ms/step\n"
     ]
    }
   ],
   "source": [
    "if log_output:\n",
    "    if add_customers:\n",
    "        y_pred = np.exp(model.predict(X_val, verbose=1)[0][:, 0]*max_log_y[0])\n",
    "        y_pred_test = np.exp(model.predict(X_test, verbose=1)[0][:, 0]*max_log_y[0])\n",
    "    else:\n",
    "        y_pred = np.exp(model.predict(X_val, verbose=1)*max_log_y)[:,0]\n",
    "        y_pred_test = np.exp(model.predict(X_test, verbose=1)*max_log_y)[:,0]\n",
    "else:\n",
    "    if add_customers:\n",
    "        y_pred = (model.predict(X_val, verbose=1)[0]*y_std[0] + y_mean[0])[:,0]\n",
    "        y_pred_test = (model.predict(X_test, verbose=1)[0]*y_std[0] + y_mean[0])[:,0]\n",
    "    else:\n",
    "         y_pred = model.predict(X_val, verbose=1)[:,0]*y_std + y_mean\n",
    "         y_pred_test = model.predict(X_test, verbose=1)[:,0]*y_std + y_mean\n",
    "         y_pred = model.predict(X_val, verbose=1)[:,0]*y_max\n",
    "         y_pred_test = model.predict(X_test, verbose=1)[:,0]*y_max\n",
    "y_pred_test[df_test['Open'] == 0] = 0"
   ]
  },
  {
   "cell_type": "code",
   "execution_count": 97,
   "metadata": {},
   "outputs": [
    {
     "data": {
      "text/plain": [
       "0.14287378497517866"
      ]
     },
     "execution_count": 97,
     "metadata": {},
     "output_type": "execute_result"
    }
   ],
   "source": [
    "np.sqrt((((df_val['Sales'].values - y_pred)/df_val['Sales'].values)**2).sum()/len(y_pred))"
   ]
  },
  {
   "cell_type": "code",
   "execution_count": 98,
   "metadata": {},
   "outputs": [
    {
     "data": {
      "text/plain": [
       "array([4576.1646, 7485.306 , 9244.777 , 6879.609 , 7284.764 , 5750.376 ,\n",
       "       8229.739 , 8172.2466, 5142.682 , 5754.524 ], dtype=float32)"
      ]
     },
     "execution_count": 98,
     "metadata": {},
     "output_type": "execute_result"
    }
   ],
   "source": [
    "y_pred_test[:10]"
   ]
  },
  {
   "cell_type": "markdown",
   "metadata": {},
   "source": [
    "# Baseline"
   ]
  },
  {
   "cell_type": "code",
   "execution_count": 99,
   "metadata": {},
   "outputs": [],
   "source": [
    "import pandas as pd\n",
    "sample_csv = pd.read_csv('C:\\\\Users\\\\Franco\\\\Desktop\\\\kaggle-rossmann-master\\\\rossmann\\\\sample_submission.csv')"
   ]
  },
  {
   "cell_type": "code",
   "execution_count": 100,
   "metadata": {},
   "outputs": [],
   "source": [
    "stores_mean = {}\n",
    "for store, g_df in df.groupby('Store'):\n",
    "    stores_mean[store] = g_df[g_df['Sales'] > 0]['Sales'].mean()"
   ]
  },
  {
   "cell_type": "code",
   "execution_count": 101,
   "metadata": {},
   "outputs": [],
   "source": [
    "df_test['Sales'] = df_test['Store'].apply(stores_mean.get)\n",
    "df_test.loc[df_test['Open'] == 0, 'Sales'] = 0"
   ]
  },
  {
   "cell_type": "code",
   "execution_count": 102,
   "metadata": {},
   "outputs": [
    {
     "data": {
      "text/html": [
       "<div>\n",
       "<style scoped>\n",
       "    .dataframe tbody tr th:only-of-type {\n",
       "        vertical-align: middle;\n",
       "    }\n",
       "\n",
       "    .dataframe tbody tr th {\n",
       "        vertical-align: top;\n",
       "    }\n",
       "\n",
       "    .dataframe thead th {\n",
       "        text-align: right;\n",
       "    }\n",
       "</style>\n",
       "<table border=\"1\" class=\"dataframe\">\n",
       "  <thead>\n",
       "    <tr style=\"text-align: right;\">\n",
       "      <th></th>\n",
       "      <th>Store</th>\n",
       "      <th>Sales</th>\n",
       "    </tr>\n",
       "  </thead>\n",
       "  <tbody>\n",
       "    <tr>\n",
       "      <th>0</th>\n",
       "      <td>0</td>\n",
       "      <td>4759.096031</td>\n",
       "    </tr>\n",
       "    <tr>\n",
       "      <th>1</th>\n",
       "      <td>2</td>\n",
       "      <td>6942.568678</td>\n",
       "    </tr>\n",
       "    <tr>\n",
       "      <th>2</th>\n",
       "      <td>6</td>\n",
       "      <td>8817.050891</td>\n",
       "    </tr>\n",
       "    <tr>\n",
       "      <th>3</th>\n",
       "      <td>7</td>\n",
       "      <td>5539.358418</td>\n",
       "    </tr>\n",
       "    <tr>\n",
       "      <th>4</th>\n",
       "      <td>8</td>\n",
       "      <td>6562.337612</td>\n",
       "    </tr>\n",
       "    <tr>\n",
       "      <th>5</th>\n",
       "      <td>9</td>\n",
       "      <td>5568.420918</td>\n",
       "    </tr>\n",
       "    <tr>\n",
       "      <th>6</th>\n",
       "      <td>10</td>\n",
       "      <td>8030.977041</td>\n",
       "    </tr>\n",
       "    <tr>\n",
       "      <th>7</th>\n",
       "      <td>11</td>\n",
       "      <td>7589.598214</td>\n",
       "    </tr>\n",
       "    <tr>\n",
       "      <th>8</th>\n",
       "      <td>12</td>\n",
       "      <td>5034.747182</td>\n",
       "    </tr>\n",
       "    <tr>\n",
       "      <th>9</th>\n",
       "      <td>13</td>\n",
       "      <td>5508.567394</td>\n",
       "    </tr>\n",
       "  </tbody>\n",
       "</table>\n",
       "</div>"
      ],
      "text/plain": [
       "   Store        Sales\n",
       "0      0  4759.096031\n",
       "1      2  6942.568678\n",
       "2      6  8817.050891\n",
       "3      7  5539.358418\n",
       "4      8  6562.337612\n",
       "5      9  5568.420918\n",
       "6     10  8030.977041\n",
       "7     11  7589.598214\n",
       "8     12  5034.747182\n",
       "9     13  5508.567394"
      ]
     },
     "execution_count": 102,
     "metadata": {},
     "output_type": "execute_result"
    }
   ],
   "source": [
    "df_test[['Store', 'Sales']].head(10)"
   ]
  },
  {
   "cell_type": "code",
   "execution_count": 103,
   "metadata": {},
   "outputs": [
    {
     "data": {
      "text/html": [
       "<div>\n",
       "<style scoped>\n",
       "    .dataframe tbody tr th:only-of-type {\n",
       "        vertical-align: middle;\n",
       "    }\n",
       "\n",
       "    .dataframe tbody tr th {\n",
       "        vertical-align: top;\n",
       "    }\n",
       "\n",
       "    .dataframe thead th {\n",
       "        text-align: right;\n",
       "    }\n",
       "</style>\n",
       "<table border=\"1\" class=\"dataframe\">\n",
       "  <thead>\n",
       "    <tr style=\"text-align: right;\">\n",
       "      <th></th>\n",
       "      <th>Store</th>\n",
       "      <th>Sales</th>\n",
       "    </tr>\n",
       "  </thead>\n",
       "  <tbody>\n",
       "    <tr>\n",
       "      <th>543</th>\n",
       "      <td>702</td>\n",
       "      <td>0.0</td>\n",
       "    </tr>\n",
       "    <tr>\n",
       "      <th>676</th>\n",
       "      <td>878</td>\n",
       "      <td>0.0</td>\n",
       "    </tr>\n",
       "    <tr>\n",
       "      <th>840</th>\n",
       "      <td>1096</td>\n",
       "      <td>0.0</td>\n",
       "    </tr>\n",
       "    <tr>\n",
       "      <th>1399</th>\n",
       "      <td>702</td>\n",
       "      <td>0.0</td>\n",
       "    </tr>\n",
       "    <tr>\n",
       "      <th>1532</th>\n",
       "      <td>878</td>\n",
       "      <td>0.0</td>\n",
       "    </tr>\n",
       "  </tbody>\n",
       "</table>\n",
       "</div>"
      ],
      "text/plain": [
       "      Store  Sales\n",
       "543     702    0.0\n",
       "676     878    0.0\n",
       "840    1096    0.0\n",
       "1399    702    0.0\n",
       "1532    878    0.0"
      ]
     },
     "execution_count": 103,
     "metadata": {},
     "output_type": "execute_result"
    }
   ],
   "source": [
    "df_test[df_test['Open'] == 0][['Store', 'Sales']].head()"
   ]
  },
  {
   "cell_type": "code",
   "execution_count": 104,
   "metadata": {},
   "outputs": [],
   "source": [
    "sample_csv['Sales'] = df_test['Sales']"
   ]
  },
  {
   "cell_type": "code",
   "execution_count": 105,
   "metadata": {},
   "outputs": [],
   "source": [
    "sample_csv.to_csv(f'submision_baseline.csv', index=False)"
   ]
  },
  {
   "cell_type": "code",
   "execution_count": 106,
   "metadata": {},
   "outputs": [
    {
     "data": {
      "text/html": [
       "<div>\n",
       "<style scoped>\n",
       "    .dataframe tbody tr th:only-of-type {\n",
       "        vertical-align: middle;\n",
       "    }\n",
       "\n",
       "    .dataframe tbody tr th {\n",
       "        vertical-align: top;\n",
       "    }\n",
       "\n",
       "    .dataframe thead th {\n",
       "        text-align: right;\n",
       "    }\n",
       "</style>\n",
       "<table border=\"1\" class=\"dataframe\">\n",
       "  <thead>\n",
       "    <tr style=\"text-align: right;\">\n",
       "      <th></th>\n",
       "      <th>Id</th>\n",
       "      <th>Sales</th>\n",
       "    </tr>\n",
       "  </thead>\n",
       "  <tbody>\n",
       "    <tr>\n",
       "      <th>0</th>\n",
       "      <td>1</td>\n",
       "      <td>4759.096031</td>\n",
       "    </tr>\n",
       "    <tr>\n",
       "      <th>1</th>\n",
       "      <td>2</td>\n",
       "      <td>6942.568678</td>\n",
       "    </tr>\n",
       "    <tr>\n",
       "      <th>2</th>\n",
       "      <td>3</td>\n",
       "      <td>8817.050891</td>\n",
       "    </tr>\n",
       "    <tr>\n",
       "      <th>3</th>\n",
       "      <td>4</td>\n",
       "      <td>5539.358418</td>\n",
       "    </tr>\n",
       "    <tr>\n",
       "      <th>4</th>\n",
       "      <td>5</td>\n",
       "      <td>6562.337612</td>\n",
       "    </tr>\n",
       "  </tbody>\n",
       "</table>\n",
       "</div>"
      ],
      "text/plain": [
       "   Id        Sales\n",
       "0   1  4759.096031\n",
       "1   2  6942.568678\n",
       "2   3  8817.050891\n",
       "3   4  5539.358418\n",
       "4   5  6562.337612"
      ]
     },
     "execution_count": 106,
     "metadata": {},
     "output_type": "execute_result"
    }
   ],
   "source": [
    "sample_csv.head()"
   ]
  },
  {
   "cell_type": "markdown",
   "metadata": {},
   "source": [
    "# Submit a la competición"
   ]
  },
  {
   "cell_type": "code",
   "execution_count": 107,
   "metadata": {},
   "outputs": [],
   "source": [
    "import datetime\n",
    "import random\n",
    "random.seed()\n"
   ]
  },
  {
   "cell_type": "code",
   "execution_count": 108,
   "metadata": {},
   "outputs": [],
   "source": [
    "\n",
    "sample_csv = pd.read_csv('C:\\\\Users\\\\Franco\\\\Desktop\\\\kaggle-rossmann-master\\\\rossmann\\\\sample_submission.csv')\n",
    "sample_csv['Sales'] = y_pred_test\n",
    "sample_csv.head()\n",
    "\n",
    "sample_csv.to_csv(f'submision_{add_customers}-{log_output}-{output_activation}-{l2_lambda}-{activation_csv}-{first_hidden_units}-{second_hidden_units}-{epochs}-{batch_size}-{lr}--{random.randint(0,9999999)}.csv', index=False)\n"
   ]
  },
  {
   "cell_type": "markdown",
   "metadata": {},
   "source": [
    "# Analisis de embedings"
   ]
  },
  {
   "cell_type": "code",
   "execution_count": 109,
   "metadata": {},
   "outputs": [],
   "source": [
    "def plot_embed(layer_name, cat_names):\n",
    "    Y = model.get_layer(layer_name).get_weights()[0]\n",
    "    print(Y.shape)\n",
    "    plt.figure(figsize=(8,8))\n",
    "    plt.scatter(-Y[:, 0], -Y[:, 1])\n",
    "    for i, txt in enumerate(cat_names):\n",
    "        plt.annotate(txt, (-Y[i, 0],-Y[i, 1]), xytext = (-5, 8), textcoords = 'offset points')"
   ]
  },
  {
   "cell_type": "code",
   "execution_count": 110,
   "metadata": {},
   "outputs": [
    {
     "name": "stdout",
     "output_type": "stream",
     "text": [
      "(7, 7)\n"
     ]
    },
    {
     "data": {
      "image/png": "[encoded data removed]",
      "text/plain": [
       "<Figure size 576x576 with 1 Axes>"
      ]
     },
     "metadata": {
      "needs_background": "light"
     },
     "output_type": "display_data"
    }
   ],
   "source": [
    "model.load_weights('bestmodel.hdf5')\n",
    "plot_embed('DayOfWeek_Embed', ['Mon', 'Tue', 'Wed', 'Thu', 'Fri', 'Sat','Sun'])"
   ]
  },
  {
   "cell_type": "code",
   "execution_count": 111,
   "metadata": {},
   "outputs": [
    {
     "name": "stdout",
     "output_type": "stream",
     "text": [
      "(12, 12)\n"
     ]
    },
    {
     "data": {
      "image/png": "[encoded data removed]",
      "text/plain": [
       "<Figure size 576x576 with 1 Axes>"
      ]
     },
     "metadata": {
      "needs_background": "light"
     },
     "output_type": "display_data"
    }
   ],
   "source": [
    "plot_embed('Month_Embed', list(range(12)))"
   ]
  },
  {
   "cell_type": "code",
   "execution_count": 112,
   "metadata": {},
   "outputs": [],
   "source": [
    "from sklearn.manifold import TSNE\n",
    "from sklearn.decomposition import PCA"
   ]
  },
  {
   "cell_type": "code",
   "execution_count": 113,
   "metadata": {},
   "outputs": [],
   "source": [
    "#day_of_week_embedding.shape"
   ]
  },
  {
   "cell_type": "code",
   "execution_count": 114,
   "metadata": {},
   "outputs": [],
   "source": [
    "#tsne = TSNE(n_components=2, random_state=1, learning_rate=10, n_iter=10000)\n",
    "#Y = tsne.fit_transform(day_of_week_embedding)\n",
    "#names = ['Mon', 'Tue', 'Wed', 'Thu', 'Fri', 'Sat','Sun']\n",
    "#plt.figure(figsize=(8,8))\n",
    "#plt.scatter(-Y[:, 0], -Y[:, 1])\n",
    "#for i, txt in enumerate(names):\n",
    "#    plt.annotate(txt, (-Y[i, 0],-Y[i, 1]), xytext = (-5, 8), textcoords = 'offset points')"
   ]
  },
  {
   "cell_type": "code",
   "execution_count": 115,
   "metadata": {},
   "outputs": [
    {
     "data": {
      "text/plain": [
       "['Store',\n",
       " 'DayOfWeek',\n",
       " 'Year',\n",
       " 'Month',\n",
       " 'Day',\n",
       " 'StateHoliday',\n",
       " 'StoreType',\n",
       " 'Assortment',\n",
       " 'State',\n",
       " 'Week',\n",
       " 'Events',\n",
       " 'StateHoliday_bool_fw',\n",
       " 'StateHoliday_bool_bw',\n",
       " 'SchoolHoliday_fw',\n",
       " 'SchoolHoliday_bw']"
      ]
     },
     "execution_count": 115,
     "metadata": {},
     "output_type": "execute_result"
    }
   ],
   "source": [
    "cat_vars"
   ]
  },
  {
   "cell_type": "markdown",
   "metadata": {},
   "source": [
    "## Store embeddings"
   ]
  },
  {
   "cell_type": "code",
   "execution_count": 116,
   "metadata": {},
   "outputs": [],
   "source": [
    "submodel = Model(cat_var_inputs + cont_vars_inputs, merged)"
   ]
  },
  {
   "cell_type": "code",
   "execution_count": 117,
   "metadata": {},
   "outputs": [
    {
     "name": "stdout",
     "output_type": "stream",
     "text": [
      "Model: \"model_3\"\n",
      "__________________________________________________________________________________________________\n",
      " Layer (type)                   Output Shape         Param #     Connected to                     \n",
      "==================================================================================================\n",
      " Store_input (InputLayer)       [(None, 1)]          0           []                               \n",
      "                                                                                                  \n",
      " DayOfWeek_input (InputLayer)   [(None, 1)]          0           []                               \n",
      "                                                                                                  \n",
      " Year_input (InputLayer)        [(None, 1)]          0           []                               \n",
      "                                                                                                  \n",
      " Month_input (InputLayer)       [(None, 1)]          0           []                               \n",
      "                                                                                                  \n",
      " Day_input (InputLayer)         [(None, 1)]          0           []                               \n",
      "                                                                                                  \n",
      " StateHoliday_input (InputLayer  [(None, 1)]         0           []                               \n",
      " )                                                                                                \n",
      "                                                                                                  \n",
      " StoreType_input (InputLayer)   [(None, 1)]          0           []                               \n",
      "                                                                                                  \n",
      " Assortment_input (InputLayer)  [(None, 1)]          0           []                               \n",
      "                                                                                                  \n",
      " State_input (InputLayer)       [(None, 1)]          0           []                               \n",
      "                                                                                                  \n",
      " Week_input (InputLayer)        [(None, 1)]          0           []                               \n",
      "                                                                                                  \n",
      " Events_input (InputLayer)      [(None, 1)]          0           []                               \n",
      "                                                                                                  \n",
      " StateHoliday_bool_fw_input (In  [(None, 1)]         0           []                               \n",
      " putLayer)                                                                                        \n",
      "                                                                                                  \n",
      " StateHoliday_bool_bw_input (In  [(None, 1)]         0           []                               \n",
      " putLayer)                                                                                        \n",
      "                                                                                                  \n",
      " SchoolHoliday_fw_input (InputL  [(None, 1)]         0           []                               \n",
      " ayer)                                                                                            \n",
      "                                                                                                  \n",
      " SchoolHoliday_bw_input (InputL  [(None, 1)]         0           []                               \n",
      " ayer)                                                                                            \n",
      "                                                                                                  \n",
      " Store_Embed (Embedding)        (None, 1, 1115)      1243225     ['Store_input[0][0]']            \n",
      "                                                                                                  \n",
      " DayOfWeek_Embed (Embedding)    (None, 1, 7)         49          ['DayOfWeek_input[0][0]']        \n",
      "                                                                                                  \n",
      " Year_Embed (Embedding)         (None, 1, 3)         9           ['Year_input[0][0]']             \n",
      "                                                                                                  \n",
      " Month_Embed (Embedding)        (None, 1, 12)        144         ['Month_input[0][0]']            \n",
      "                                                                                                  \n",
      " Day_Embed (Embedding)          (None, 1, 31)        961         ['Day_input[0][0]']              \n",
      "                                                                                                  \n",
      " StateHoliday_Embed (Embedding)  (None, 1, 4)        16          ['StateHoliday_input[0][0]']     \n",
      "                                                                                                  \n",
      " StoreType_Embed (Embedding)    (None, 1, 4)         16          ['StoreType_input[0][0]']        \n",
      "                                                                                                  \n",
      " Assortment_Embed (Embedding)   (None, 1, 3)         9           ['Assortment_input[0][0]']       \n",
      "                                                                                                  \n",
      " State_Embed (Embedding)        (None, 1, 12)        144         ['State_input[0][0]']            \n",
      "                                                                                                  \n",
      " Week_Embed (Embedding)         (None, 1, 52)        2704        ['Week_input[0][0]']             \n",
      "                                                                                                  \n",
      " Events_Embed (Embedding)       (None, 1, 22)        484         ['Events_input[0][0]']           \n",
      "                                                                                                  \n",
      " StateHoliday_bool_fw_Embed (Em  (None, 1, 3)        9           ['StateHoliday_bool_fw_input[0][0\n",
      " bedding)                                                        ]']                              \n",
      "                                                                                                  \n",
      " StateHoliday_bool_bw_Embed (Em  (None, 1, 3)        9           ['StateHoliday_bool_bw_input[0][0\n",
      " bedding)                                                        ]']                              \n",
      "                                                                                                  \n",
      " SchoolHoliday_fw_Embed (Embedd  (None, 1, 8)        64          ['SchoolHoliday_fw_input[0][0]'] \n",
      " ing)                                                                                             \n",
      "                                                                                                  \n",
      " SchoolHoliday_bw_Embed (Embedd  (None, 1, 8)        64          ['SchoolHoliday_bw_input[0][0]'] \n",
      " ing)                                                                                             \n",
      "                                                                                                  \n",
      " Store_flat (Flatten)           (None, 1115)         0           ['Store_Embed[0][0]']            \n",
      "                                                                                                  \n",
      " DayOfWeek_flat (Flatten)       (None, 7)            0           ['DayOfWeek_Embed[0][0]']        \n",
      "                                                                                                  \n",
      " Year_flat (Flatten)            (None, 3)            0           ['Year_Embed[0][0]']             \n",
      "                                                                                                  \n",
      " Month_flat (Flatten)           (None, 12)           0           ['Month_Embed[0][0]']            \n",
      "                                                                                                  \n",
      " Day_flat (Flatten)             (None, 31)           0           ['Day_Embed[0][0]']              \n",
      "                                                                                                  \n",
      " StateHoliday_flat (Flatten)    (None, 4)            0           ['StateHoliday_Embed[0][0]']     \n",
      "                                                                                                  \n",
      " StoreType_flat (Flatten)       (None, 4)            0           ['StoreType_Embed[0][0]']        \n",
      "                                                                                                  \n",
      " Assortment_flat (Flatten)      (None, 3)            0           ['Assortment_Embed[0][0]']       \n",
      "                                                                                                  \n",
      " State_flat (Flatten)           (None, 12)           0           ['State_Embed[0][0]']            \n",
      "                                                                                                  \n",
      " Week_flat (Flatten)            (None, 52)           0           ['Week_Embed[0][0]']             \n",
      "                                                                                                  \n",
      " Events_flat (Flatten)          (None, 22)           0           ['Events_Embed[0][0]']           \n",
      "                                                                                                  \n",
      " StateHoliday_bool_fw_flat (Fla  (None, 3)           0           ['StateHoliday_bool_fw_Embed[0][0\n",
      " tten)                                                           ]']                              \n",
      "                                                                                                  \n",
      " StateHoliday_bool_bw_flat (Fla  (None, 3)           0           ['StateHoliday_bool_bw_Embed[0][0\n",
      " tten)                                                           ]']                              \n",
      "                                                                                                  \n",
      " SchoolHoliday_fw_flat (Flatten  (None, 8)           0           ['SchoolHoliday_fw_Embed[0][0]'] \n",
      " )                                                                                                \n",
      "                                                                                                  \n",
      " SchoolHoliday_bw_flat (Flatten  (None, 8)           0           ['SchoolHoliday_bw_Embed[0][0]'] \n",
      " )                                                                                                \n",
      "                                                                                                  \n",
      " CompetitionDistance_input (Inp  [(None, 1)]         0           []                               \n",
      " utLayer)                                                                                         \n",
      "                                                                                                  \n",
      " Max_TemperatureC_input (InputL  [(None, 1)]         0           []                               \n",
      " ayer)                                                                                            \n",
      "                                                                                                  \n",
      " Mean_TemperatureC_input (Input  [(None, 1)]         0           []                               \n",
      " Layer)                                                                                           \n",
      "                                                                                                  \n",
      " Min_TemperatureC_input (InputL  [(None, 1)]         0           []                               \n",
      " ayer)                                                                                            \n",
      "                                                                                                  \n",
      " Precipitationmm_input (InputLa  [(None, 1)]         0           []                               \n",
      " yer)                                                                                             \n",
      "                                                                                                  \n",
      " Max_Humidity_input (InputLayer  [(None, 1)]         0           []                               \n",
      " )                                                                                                \n",
      "                                                                                                  \n",
      " Mean_Humidity_input (InputLaye  [(None, 1)]         0           []                               \n",
      " r)                                                                                               \n",
      "                                                                                                  \n",
      " Min_Humidity_input (InputLayer  [(None, 1)]         0           []                               \n",
      " )                                                                                                \n",
      "                                                                                                  \n",
      " Max_Wind_SpeedKm_h_input (Inpu  [(None, 1)]         0           []                               \n",
      " tLayer)                                                                                          \n",
      "                                                                                                  \n",
      " Mean_Wind_SpeedKm_h_input (Inp  [(None, 1)]         0           []                               \n",
      " utLayer)                                                                                         \n",
      "                                                                                                  \n",
      " CloudCover_input (InputLayer)  [(None, 1)]          0           []                               \n",
      "                                                                                                  \n",
      " trend_input (InputLayer)       [(None, 1)]          0           []                               \n",
      "                                                                                                  \n",
      " trend_DE_input (InputLayer)    [(None, 1)]          0           []                               \n",
      "                                                                                                  \n",
      " AfterStateHoliday_bool_input (  [(None, 1)]         0           []                               \n",
      " InputLayer)                                                                                      \n",
      "                                                                                                  \n",
      " BeforeStateHoliday_bool_input   [(None, 1)]         0           []                               \n",
      " (InputLayer)                                                                                     \n",
      "                                                                                                  \n",
      " Promo_input (InputLayer)       [(None, 1)]          0           []                               \n",
      "                                                                                                  \n",
      " SchoolHoliday_input (InputLaye  [(None, 1)]         0           []                               \n",
      " r)                                                                                               \n",
      "                                                                                                  \n",
      " StateHoliday_bool_input (Input  [(None, 1)]         0           []                               \n",
      " Layer)                                                                                           \n",
      "                                                                                                  \n",
      " All_Concatenate (Concatenate)  (None, 1305)         0           ['Store_flat[0][0]',             \n",
      "                                                                  'DayOfWeek_flat[0][0]',         \n",
      "                                                                  'Year_flat[0][0]',              \n",
      "                                                                  'Month_flat[0][0]',             \n",
      "                                                                  'Day_flat[0][0]',               \n",
      "                                                                  'StateHoliday_flat[0][0]',      \n",
      "                                                                  'StoreType_flat[0][0]',         \n",
      "                                                                  'Assortment_flat[0][0]',        \n",
      "                                                                  'State_flat[0][0]',             \n",
      "                                                                  'Week_flat[0][0]',              \n",
      "                                                                  'Events_flat[0][0]',            \n",
      "                                                                  'StateHoliday_bool_fw_flat[0][0]\n",
      "                                                                 ',                               \n",
      "                                                                  'StateHoliday_bool_bw_flat[0][0]\n",
      "                                                                 ',                               \n",
      "                                                                  'SchoolHoliday_fw_flat[0][0]',  \n",
      "                                                                  'SchoolHoliday_bw_flat[0][0]',  \n",
      "                                                                  'CompetitionDistance_input[0][0]\n",
      "                                                                 ',                               \n",
      "                                                                  'Max_TemperatureC_input[0][0]', \n",
      "                                                                  'Mean_TemperatureC_input[0][0]',\n",
      "                                                                  'Min_TemperatureC_input[0][0]', \n",
      "                                                                  'Precipitationmm_input[0][0]',  \n",
      "                                                                  'Max_Humidity_input[0][0]',     \n",
      "                                                                  'Mean_Humidity_input[0][0]',    \n",
      "                                                                  'Min_Humidity_input[0][0]',     \n",
      "                                                                  'Max_Wind_SpeedKm_h_input[0][0]'\n",
      "                                                                 , 'Mean_Wind_SpeedKm_h_input[0][0\n",
      "                                                                 ]',                              \n",
      "                                                                  'CloudCover_input[0][0]',       \n",
      "                                                                  'trend_input[0][0]',            \n",
      "                                                                  'trend_DE_input[0][0]',         \n",
      "                                                                  'AfterStateHoliday_bool_input[0]\n",
      "                                                                 [0]',                            \n",
      "                                                                  'BeforeStateHoliday_bool_input[0\n",
      "                                                                 ][0]',                           \n",
      "                                                                  'Promo_input[0][0]',            \n",
      "                                                                  'SchoolHoliday_input[0][0]',    \n",
      "                                                                  'StateHoliday_bool_input[0][0]']\n",
      "                                                                                                  \n",
      "==================================================================================================\n",
      "Total params: 1,247,907\n",
      "Trainable params: 1,247,907\n",
      "Non-trainable params: 0\n",
      "__________________________________________________________________________________________________\n"
     ]
    }
   ],
   "source": [
    "submodel.summary()"
   ]
  },
  {
   "cell_type": "code",
   "execution_count": 118,
   "metadata": {},
   "outputs": [
    {
     "name": "stdout",
     "output_type": "stream",
     "text": [
      "WARNING:tensorflow:Compiled the loaded model, but the compiled metrics have yet to be built. `model.compile_metrics` will be empty until you train or evaluate the model.\n"
     ]
    }
   ],
   "source": [
    "submodel.save('embeddings_model.hdf5')"
   ]
  },
  {
   "cell_type": "code",
   "execution_count": null,
   "metadata": {},
   "outputs": [],
   "source": []
  }
 ],
 "metadata": {
  "interpreter": {
   "hash": "62bcb8bc5ec449eb54e1551fb9d9e6c16b8bf68a5371d333a8087f25c4c9d213"
  },
  "kernelspec": {
   "display_name": "Python 3.9.4 64-bit",
   "language": "python",
   "name": "python3"
  },
  "language_info": {
   "codemirror_mode": {
    "name": "ipython",
    "version": 3
   },
   "file_extension": ".py",
   "mimetype": "text/x-python",
   "name": "python",
   "nbconvert_exporter": "python",
   "pygments_lexer": "ipython3",
   "version": "3.9.4"
  }
 },
 "nbformat": 4,
 "nbformat_minor": 4
}
